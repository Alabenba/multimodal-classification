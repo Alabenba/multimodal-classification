{
 "cells": [
  {
   "cell_type": "code",
   "execution_count": 1,
   "metadata": {},
   "outputs": [
    {
     "name": "stderr",
     "output_type": "stream",
     "text": [
      "Using TensorFlow backend.\n"
     ]
    }
   ],
   "source": [
    "import os\n",
    "import re\n",
    "import h5py\n",
    "import numpy as np\n",
    "import pandas as pd\n",
    "\n",
    "import keras\n",
    "from keras.utils.io_utils import HDF5Matrix\n",
    "from keras.models import Sequential, Model\n",
    "from keras.layers import Conv2D, MaxPooling2D, MaxPool2D, Flatten, Dense, Dropout, Activation, Input\n",
    "from keras.optimizers import SGD\n",
    "from keras.applications import VGG16\n",
    "from keras.preprocessing.image import ImageDataGenerator"
   ]
  },
  {
   "cell_type": "code",
   "execution_count": 2,
   "metadata": {},
   "outputs": [],
   "source": [
    "models_filename = '/data/school/food_classification/v8_vgg16_model_1.h5'\n",
    "image_dir = '/data/school/food_classification/recipes_splitted/images'\n",
    "image_size = (224, 224)\n",
    "batch_size = 1\n",
    "epochs = 80"
   ]
  },
  {
   "cell_type": "code",
   "execution_count": 3,
   "metadata": {},
   "outputs": [
    {
     "name": "stdout",
     "output_type": "stream",
     "text": [
      "Found 160 images belonging to 101 classes.\n"
     ]
    }
   ],
   "source": [
    "image_data_generator = ImageDataGenerator(\n",
    "rescale = 1./255,\n",
    "horizontal_flip = False,\n",
    "fill_mode = \"nearest\",\n",
    "zoom_range = 0,\n",
    "width_shift_range = 0,\n",
    "height_shift_range=0,\n",
    "rotation_range=0)\n",
    "\n",
    "\n",
    "generator_flow = image_data_generator.flow_from_directory(\n",
    "image_dir,\n",
    "target_size = (image_size[0], image_size[1]),\n",
    "batch_size = batch_size, \n",
    "class_mode = \"categorical\",\n",
    "shuffle=False)\n",
    "\n",
    "\n",
    "num_of_classes = len(generator_flow.class_indices)\n",
    "total_number_of_images=generator_flow.n"
   ]
  },
  {
   "cell_type": "code",
   "execution_count": 4,
   "metadata": {},
   "outputs": [],
   "source": [
    "images_label_and_name=generator_flow.filenames\n",
    "labels=[]\n",
    "image_names=[]\n",
    "\n",
    "for i in images_label_and_name:\n",
    "    splitted_label_and_image_name=re.split('\\/',i)\n",
    "    labels.append(splitted_label_and_image_name[0])\n",
    "    image_names.append(splitted_label_and_image_name[1])\n",
    "    \n",
    "keys=generator_flow.class_indices.keys()\n",
    "food_categories_sorted=sorted(keys,key=str)"
   ]
  },
  {
   "cell_type": "code",
   "execution_count": 5,
   "metadata": {},
   "outputs": [
    {
     "name": "stderr",
     "output_type": "stream",
     "text": [
      "/usr/local/lib/python3.5/dist-packages/ipykernel_launcher.py:9: UserWarning: Update your `Model` call to the Keras 2 API: `Model(inputs=Tensor(\"in..., outputs=Tensor(\"de...)`\n",
      "  if __name__ == '__main__':\n"
     ]
    }
   ],
   "source": [
    "model = VGG16(weights=None, include_top=False, input_shape=(image_size[0], image_size[1], 3))\n",
    "\n",
    " \n",
    "x = model.output\n",
    "x = Flatten()(x)\n",
    "x = Dense(101*2, activation=\"relu\", name=\"dense_1\")(x)\n",
    "x = Dense(101*2, activation=\"relu\", name=\"dense_2\")(x)\n",
    "predictions = Dense(101, activation=\"softmax\", name=\"dense_3\")(x)\n",
    "model_final = Model(input=model.input, output=predictions)\n",
    "model_final.compile(loss=\"categorical_crossentropy\", optimizer='adam', metrics=[\"accuracy\"])\n",
    "model_final.load_weights(models_filename)"
   ]
  },
  {
   "cell_type": "code",
   "execution_count": 6,
   "metadata": {},
   "outputs": [
    {
     "name": "stdout",
     "output_type": "stream",
     "text": [
      "_________________________________________________________________\n",
      "Layer (type)                 Output Shape              Param #   \n",
      "=================================================================\n",
      "input_1 (InputLayer)         (None, 224, 224, 3)       0         \n",
      "_________________________________________________________________\n",
      "block1_conv1 (Conv2D)        (None, 224, 224, 64)      1792      \n",
      "_________________________________________________________________\n",
      "block1_conv2 (Conv2D)        (None, 224, 224, 64)      36928     \n",
      "_________________________________________________________________\n",
      "block1_pool (MaxPooling2D)   (None, 112, 112, 64)      0         \n",
      "_________________________________________________________________\n",
      "block2_conv1 (Conv2D)        (None, 112, 112, 128)     73856     \n",
      "_________________________________________________________________\n",
      "block2_conv2 (Conv2D)        (None, 112, 112, 128)     147584    \n",
      "_________________________________________________________________\n",
      "block2_pool (MaxPooling2D)   (None, 56, 56, 128)       0         \n",
      "_________________________________________________________________\n",
      "block3_conv1 (Conv2D)        (None, 56, 56, 256)       295168    \n",
      "_________________________________________________________________\n",
      "block3_conv2 (Conv2D)        (None, 56, 56, 256)       590080    \n",
      "_________________________________________________________________\n",
      "block3_conv3 (Conv2D)        (None, 56, 56, 256)       590080    \n",
      "_________________________________________________________________\n",
      "block3_pool (MaxPooling2D)   (None, 28, 28, 256)       0         \n",
      "_________________________________________________________________\n",
      "block4_conv1 (Conv2D)        (None, 28, 28, 512)       1180160   \n",
      "_________________________________________________________________\n",
      "block4_conv2 (Conv2D)        (None, 28, 28, 512)       2359808   \n",
      "_________________________________________________________________\n",
      "block4_conv3 (Conv2D)        (None, 28, 28, 512)       2359808   \n",
      "_________________________________________________________________\n",
      "block4_pool (MaxPooling2D)   (None, 14, 14, 512)       0         \n",
      "_________________________________________________________________\n",
      "block5_conv1 (Conv2D)        (None, 14, 14, 512)       2359808   \n",
      "_________________________________________________________________\n",
      "block5_conv2 (Conv2D)        (None, 14, 14, 512)       2359808   \n",
      "_________________________________________________________________\n",
      "block5_conv3 (Conv2D)        (None, 14, 14, 512)       2359808   \n",
      "_________________________________________________________________\n",
      "block5_pool (MaxPooling2D)   (None, 7, 7, 512)         0         \n",
      "_________________________________________________________________\n",
      "flatten_1 (Flatten)          (None, 25088)             0         \n",
      "_________________________________________________________________\n",
      "dense_1 (Dense)              (None, 202)               5067978   \n",
      "_________________________________________________________________\n",
      "dense_2 (Dense)              (None, 202)               41006     \n",
      "=================================================================\n",
      "Total params: 19,823,672\n",
      "Trainable params: 19,823,672\n",
      "Non-trainable params: 0\n",
      "_________________________________________________________________\n"
     ]
    }
   ],
   "source": [
    "layer_name = 'dense_2'\n",
    "intermediate_output_model = Model(inputs=model_final.input,\n",
    "                                 outputs=model_final.get_layer(layer_name).output)\n",
    "\n",
    "intermediate_output_model.summary()"
   ]
  },
  {
   "cell_type": "code",
   "execution_count": 7,
   "metadata": {},
   "outputs": [
    {
     "name": "stdout",
     "output_type": "stream",
     "text": [
      "Network extracts 202 dimensionality feature vector from each of 160 images\n"
     ]
    }
   ],
   "source": [
    "#Extracting features from images\n",
    "features=[]\n",
    "\n",
    "for n in range(total_number_of_images):\n",
    "    batch = generator_flow.next()\n",
    "    image = batch[0][0]\n",
    "    extracted_features_from_image = intermediate_output_model.predict(np.asarray([image]))\n",
    "    features.extend(extracted_features_from_image)\n",
    "    \n",
    "print(\"Network extracts\",len(features[1]), \"dimensionality feature vector from each of\",\n",
    "      len(labels), \"images\")"
   ]
  },
  {
   "cell_type": "code",
   "execution_count": 8,
   "metadata": {},
   "outputs": [
    {
     "name": "stdout",
     "output_type": "stream",
     "text": [
      "Saving extracted features pandas dataframe to:  /data/school/food_classification/recipes_splitted/images/extracted_features.pkl\n",
      "Extracted features pandas dataframe: \n",
      "                                               features image_names    labels\n",
      "0    [0.0, 0.06311758, 0.42495194, 0.0, 0.0, 0.0, 0...     1-1.jpg   sashimi\n",
      "1    [0.0, 0.0, 0.5265681, 0.0, 0.0, 0.49240604, 0....     1-2.jpg   sashimi\n",
      "2    [0.0, 0.6812688, 1.9348963, 0.13503154, 0.4191...     1-3.jpg   sashimi\n",
      "3    [0.0, 0.0, 0.3734726, 2.3349423, 1.3873168, 5....    10-1.jpg   sashimi\n",
      "4    [0.0, 0.0, 0.8758418, 0.5611335, 0.43381542, 2...     2-1.jpg   sashimi\n",
      "5    [0.0, 0.8714383, 0.31381407, 0.60335624, 0.0, ...     2-2.jpg   sashimi\n",
      "6    [0.0, 0.0, 1.5619234, 0.8206929, 0.48484212, 2...     2-3.jpg   sashimi\n",
      "7    [0.7000546, 0.0, 0.59106547, 0.20104018, 0.043...     3-1.jpg   sashimi\n",
      "8    [0.0, 0.0, 0.21394248, 0.5373901, 0.0, 1.15656...     3-2.jpg   sashimi\n",
      "9    [0.0, 0.0, 1.0539261, 0.9627446, 0.37229824, 3...     3-3.jpg   sashimi\n",
      "10   [0.0, 0.0, 0.6974045, 0.41326895, 0.0, 0.86170...     4-1.jpg   sashimi\n",
      "11   [0.0, 0.0, 0.72211814, 0.48349926, 0.0, 0.8847...     4-2.jpg   sashimi\n",
      "12   [0.0, 0.0, 1.133505, 0.22639105, 0.0, 0.700098...     4-3.jpg   sashimi\n",
      "13   [0.0, 0.14201127, 0.87001544, 0.8151947, 0.474...     5-1.jpg   sashimi\n",
      "14   [0.0, 0.0, 1.0731366, 0.4108902, 0.0, 0.424881...     6-1.jpg   sashimi\n",
      "15   [0.0, 0.0, 2.2729096, 2.0539324, 0.9465857, 2....     7-1.jpg   sashimi\n",
      "16   [0.0, 0.0, 1.6491765, 2.6833057, 1.2775401, 7....     8-1.jpg   sashimi\n",
      "17   [0.0, 0.0, 0.7914073, 0.8452147, 0.568493, 2.0...     9-1.jpg   sashimi\n",
      "18   [0.0, 0.0, 1.2020307, 2.123606, 1.074983, 3.22...     9-2.jpg   sashimi\n",
      "19   [1.7991682, 0.0, 0.0, 0.0, 0.0, 0.0, 0.0, 1.01...     1-1.jpg     steak\n",
      "20   [1.498023, 0.0, 0.49245587, 0.0, 0.0, 0.133588...     1-2.jpg     steak\n",
      "21   [0.41425627, 0.0, 0.0, 0.0, 0.0, 0.55405885, 0...     1-3.jpg     steak\n",
      "22   [1.0389878, 0.0, 0.0, 0.0, 0.0, 0.0, 0.0, 0.21...     1-4.jpg     steak\n",
      "23   [0.48341423, 0.4841656, 0.80877763, 0.0, 0.0, ...     1-5.jpg     steak\n",
      "24   [2.4059594, 0.0, 0.0, 0.0, 0.0, 0.0, 0.0, 2.70...     1-6.jpg     steak\n",
      "25   [0.40952468, 0.789381, 0.44491273, 0.6457112, ...    10-1.jpg     steak\n",
      "26   [1.0044566, 0.0, 0.0, 0.0, 0.0, 0.0, 0.0, 1.21...    10-2.jpg     steak\n",
      "27   [1.8406153, 0.0, 0.0, 0.0, 0.0, 0.0, 0.0, 1.12...    10-3.jpg     steak\n",
      "28   [1.1414324, 0.0, 0.0, 0.7925763, 0.0, 0.004184...    10-4.jpg     steak\n",
      "29   [2.8552015, 0.0, 0.0, 0.0, 0.0, 0.0, 0.0, 1.25...    10-5.jpg     steak\n",
      "..                                                 ...         ...       ...\n",
      "130  [0.0, 0.0, 1.1189251, 0.0, 0.0, 0.0347338, 0.0...     5-4.jpg  tiramisu\n",
      "131  [0.0, 0.0, 0.37247384, 0.0, 0.0, 0.5963391, 0....     6-1.jpg  tiramisu\n",
      "132  [0.0, 0.0, 0.62051773, 0.0, 0.0, 0.9312213, 0....     6-2.jpg  tiramisu\n",
      "133  [0.124493286, 0.0, 0.12501901, 0.0, 0.0, 0.0, ...     6-3.jpg  tiramisu\n",
      "134  [0.0, 0.0, 0.92072743, 0.1913037, 0.0, 0.17321...     6-4.jpg  tiramisu\n",
      "135  [0.0, 0.18954082, 1.01439, 1.882487, 0.0, 2.40...     7-1.jpg  tiramisu\n",
      "136  [0.0, 0.0, 1.1820449, 0.7100557, 0.05058171, 0...     7-2.jpg  tiramisu\n",
      "137  [0.0, 0.7624677, 1.3778647, 2.4828534, 0.0, 4....     7-3.jpg  tiramisu\n",
      "138  [0.0, 0.0, 1.2113764, 3.1243262, 0.0, 3.161128...     7-4.jpg  tiramisu\n",
      "139  [0.0, 1.470606, 0.843713, 1.0333242, 0.0, 1.66...     7-5.jpg  tiramisu\n",
      "140  [0.0, 0.5942245, 0.64188355, 3.187158, 0.0, 3....     7-6.jpg  tiramisu\n",
      "141  [0.0, 0.14005135, 0.5827709, 0.6277125, 0.0, 2...     7-7.jpg  tiramisu\n",
      "142  [0.0, 0.10325828, 0.68300086, 0.93755984, 0.0,...     7-8.jpg  tiramisu\n",
      "143  [0.0, 0.0, 0.6260852, 0.15794113, 0.0, 1.58641...     8-1.jpg  tiramisu\n",
      "144  [0.0, 0.0, 0.12904117, 0.0, 0.0, 0.65778625, 0...     8-2.jpg  tiramisu\n",
      "145  [0.0, 0.0, 0.78349936, 0.0, 0.0, 0.013665549, ...     8-3.jpg  tiramisu\n",
      "146  [0.0, 0.0, 1.5239029, 1.3003228, 0.0, 2.049039...     8-4.jpg  tiramisu\n",
      "147  [0.0, 0.0, 0.17735219, 0.0, 0.0, 0.2878736, 0....     8-5.jpg  tiramisu\n",
      "148  [0.0, 0.0, 1.3958219, 0.0, 0.0, 1.8369703, 0.0...     8-6.jpg  tiramisu\n",
      "149  [0.3931756, 0.0, 0.0, 0.0, 0.0, 0.0, 0.7035348...     8-7.jpg  tiramisu\n",
      "150  [0.0, 0.0, 0.7770518, 0.14573944, 0.0, 1.33041...     8-8.jpg  tiramisu\n",
      "151  [0.0, 0.117642656, 0.24888873, 0.0, 0.0, 0.464...     9-1.jpg  tiramisu\n",
      "152  [0.0, 0.0, 0.0, 0.0, 0.0, 0.7562206, 0.0, 1.23...     9-2.jpg  tiramisu\n",
      "153  [0.0, 0.0, 0.036703452, 0.0, 0.0, 0.5470485, 0...     9-3.jpg  tiramisu\n",
      "154  [0.0, 0.0, 0.08850368, 0.0, 0.0, 0.16665582, 0...     9-4.jpg  tiramisu\n",
      "155  [0.0, 0.0, 0.0, 0.0, 0.0, 0.0, 0.21999669, 1.3...     9-5.jpg  tiramisu\n",
      "156  [0.18357433, 0.0, 0.36757228, 0.0, 0.0, 1.5017...     9-6.jpg  tiramisu\n",
      "157  [0.0, 0.0, 0.0, 0.0, 0.0, 0.0, 0.24539675, 1.3...     9-7.jpg  tiramisu\n",
      "158  [0.0, 0.0, 0.10035201, 0.0, 0.0, 0.0, 0.244498...     9-8.jpg  tiramisu\n",
      "159  [0.0, 0.0, 0.58597684, 0.0, 0.0, 2.92584, 0.0,...     9-9.jpg  tiramisu\n",
      "\n",
      "[160 rows x 3 columns]\n"
     ]
    }
   ],
   "source": [
    "dict_images_extracted_features = {\n",
    "    'image_names': image_names,\n",
    "    'labels' : labels,\n",
    "    'features' : features   \n",
    "}\n",
    "\n",
    "df_images_extracted_features=pd.DataFrame(dict_images_extracted_features)\n",
    "\n",
    "\n",
    "print(\"Saving extracted features pandas dataframe to: \",\n",
    "      os.path.join(image_dir,\"extracted_features.pkl\"))\n",
    "df_images_extracted_features.to_pickle(os.path.join(image_dir,\"extracted_features.pkl\"))\n",
    "\n",
    "print(\"Extracted features pandas dataframe: \\n\",df_images_extracted_features)"
   ]
  }
 ],
 "metadata": {
  "kernelspec": {
   "display_name": "Python 3",
   "language": "python",
   "name": "python3"
  },
  "language_info": {
   "codemirror_mode": {
    "name": "ipython",
    "version": 3
   },
   "file_extension": ".py",
   "mimetype": "text/x-python",
   "name": "python",
   "nbconvert_exporter": "python",
   "pygments_lexer": "ipython3",
   "version": "3.5.2"
  }
 },
 "nbformat": 4,
 "nbformat_minor": 2
}

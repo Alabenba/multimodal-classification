{
 "cells": [
  {
   "cell_type": "code",
   "execution_count": 1,
   "metadata": {},
   "outputs": [],
   "source": [
    "import os\n",
    "import pandas as pd\n",
    "from random import sample"
   ]
  },
  {
   "cell_type": "code",
   "execution_count": 2,
   "metadata": {},
   "outputs": [],
   "source": [
    "split_ratio=0.2\n",
    "path_to_preprocessed_texts = os.path.join(os.getcwd(),\n",
    "                                          'texts','preprocessed_texts_for_doc2vec.pkl')\n",
    "\n",
    "df_preprocessed_texts = pd.read_pickle(path_to_preprocessed_texts)\n",
    "\n",
    "preprocessed_texts = df_preprocessed_texts.preprocessed_texts.values.tolist()\n",
    "labels = df_preprocessed_texts['labels'].values.tolist()\n",
    "\n",
    "unique_labels=sorted(set(labels))\n",
    "number_categories=len(unique_labels)"
   ]
  },
  {
   "cell_type": "code",
   "execution_count": 6,
   "metadata": {},
   "outputs": [
    {
     "name": "stdout",
     "output_type": "stream",
     "text": [
      "[1, 7, 19, 12, 32, 34, 29, 43, 37]\n",
      "[6, 2, 14, 13, 20, 29, 26, 35, 39]\n",
      "[9, 6, 19, 11, 24, 29, 22, 39, 41]\n",
      "[0, 8, 10, 15, 20, 23, 25, 43, 38]\n",
      "[3, 7, 14, 15, 29, 34, 25, 41, 39]\n",
      "[6, 7, 11, 12, 22, 23, 20, 40, 41]\n",
      "[3, 6, 15, 16, 31, 30, 34, 41, 40]\n",
      "[9, 3, 12, 11, 26, 28, 23, 39, 42]\n",
      "[4, 6, 14, 13, 22, 25, 33, 36, 41]\n",
      "[9, 6, 14, 17, 31, 26, 20, 43, 42]\n"
     ]
    }
   ],
   "source": [
    "for number_of_iteration in range(1,11):\n",
    "    path_test_data = os.path.join(os.getcwd(),'models','test',str(number_of_iteration),'recipes_test_dataset.pkl')\n",
    "    path_train_data = os.path.join(os.getcwd(),'models','train',str(number_of_iteration), 'recipes_train_dataset.pkl')\n",
    "\n",
    "    index_test=[]\n",
    "    index_train=[]\n",
    "    \n",
    "    for label in unique_labels:\n",
    "        df_category=df_preprocessed_texts.loc[df_preprocessed_texts.labels == label]\n",
    "        number_of_recipes_in_category = df_category.labels.count()\n",
    "        index = df_category.index.values.tolist()\n",
    "        category_index_test = sample(index, int(number_of_recipes_in_category*split_ratio))\n",
    "        category_index_train = [i for i in index if i not in category_index_test]\n",
    "        index_test.extend(category_index_test)\n",
    "        index_train.extend(category_index_train)\n",
    "        #print(label, \" test ids\", index_test, \" train ids \", index_train)\n",
    "\n",
    "    print(index_test)\n",
    "    df_test = df_preprocessed_texts.loc[df_preprocessed_texts.index.isin(index_test)]\n",
    "    df_train = df_preprocessed_texts.loc[df_preprocessed_texts.index.isin(index_train)]\n",
    "    df_test.to_pickle(path_test_data)\n",
    "    df_train.to_pickle(path_train_data)"
   ]
  }
 ],
 "metadata": {
  "kernelspec": {
   "display_name": "Python 3",
   "language": "python",
   "name": "python3"
  },
  "language_info": {
   "codemirror_mode": {
    "name": "ipython",
    "version": 3
   },
   "file_extension": ".py",
   "mimetype": "text/x-python",
   "name": "python",
   "nbconvert_exporter": "python",
   "pygments_lexer": "ipython3",
   "version": "3.5.2"
  }
 },
 "nbformat": 4,
 "nbformat_minor": 2
}
